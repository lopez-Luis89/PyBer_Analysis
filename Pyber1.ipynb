{
 "cells": [
  {
   "cell_type": "code",
   "execution_count": 248,
   "id": "1e3b9a50",
   "metadata": {},
   "outputs": [],
   "source": [
    "%matplotlib inline\n",
    "import pandas as pd\n",
    "import numpy as np\n",
    "import statistics\n",
    "import matplotlib.pyplot as plt\n",
    "import scipy.stats as sts"
   ]
  },
  {
   "cell_type": "code",
   "execution_count": 37,
   "id": "ccdd65ae",
   "metadata": {},
   "outputs": [],
   "source": [
    "city_data_to_load = 'city_data.csv'\n",
    "ride_data_to_load = 'ride_data.csv'"
   ]
  },
  {
   "cell_type": "code",
   "execution_count": 38,
   "id": "80624cd9",
   "metadata": {},
   "outputs": [],
   "source": [
    "city_data = pd.read_csv(city_data_to_load)\n",
    "ride_data = pd.read_csv(ride_data_to_load)"
   ]
  },
  {
   "cell_type": "markdown",
   "id": "5063c8ab",
   "metadata": {},
   "source": [
    "# Inspecting City Data"
   ]
  },
  {
   "cell_type": "code",
   "execution_count": 39,
   "id": "31fe5c02",
   "metadata": {},
   "outputs": [
    {
     "data": {
      "text/html": [
       "<div>\n",
       "<style scoped>\n",
       "    .dataframe tbody tr th:only-of-type {\n",
       "        vertical-align: middle;\n",
       "    }\n",
       "\n",
       "    .dataframe tbody tr th {\n",
       "        vertical-align: top;\n",
       "    }\n",
       "\n",
       "    .dataframe thead th {\n",
       "        text-align: right;\n",
       "    }\n",
       "</style>\n",
       "<table border=\"1\" class=\"dataframe\">\n",
       "  <thead>\n",
       "    <tr style=\"text-align: right;\">\n",
       "      <th></th>\n",
       "      <th>city</th>\n",
       "      <th>driver_count</th>\n",
       "      <th>type</th>\n",
       "    </tr>\n",
       "  </thead>\n",
       "  <tbody>\n",
       "    <tr>\n",
       "      <th>0</th>\n",
       "      <td>Richardfort</td>\n",
       "      <td>38</td>\n",
       "      <td>Urban</td>\n",
       "    </tr>\n",
       "    <tr>\n",
       "      <th>1</th>\n",
       "      <td>Williamsstad</td>\n",
       "      <td>59</td>\n",
       "      <td>Urban</td>\n",
       "    </tr>\n",
       "    <tr>\n",
       "      <th>2</th>\n",
       "      <td>Port Angela</td>\n",
       "      <td>67</td>\n",
       "      <td>Urban</td>\n",
       "    </tr>\n",
       "    <tr>\n",
       "      <th>3</th>\n",
       "      <td>Rodneyfort</td>\n",
       "      <td>34</td>\n",
       "      <td>Urban</td>\n",
       "    </tr>\n",
       "    <tr>\n",
       "      <th>4</th>\n",
       "      <td>West Robert</td>\n",
       "      <td>39</td>\n",
       "      <td>Urban</td>\n",
       "    </tr>\n",
       "  </tbody>\n",
       "</table>\n",
       "</div>"
      ],
      "text/plain": [
       "           city  driver_count   type\n",
       "0   Richardfort            38  Urban\n",
       "1  Williamsstad            59  Urban\n",
       "2   Port Angela            67  Urban\n",
       "3    Rodneyfort            34  Urban\n",
       "4   West Robert            39  Urban"
      ]
     },
     "execution_count": 39,
     "metadata": {},
     "output_type": "execute_result"
    }
   ],
   "source": [
    "# Checking if there exis Null values\n",
    "city_data.isnull().sum()\n",
    "city_data.head()"
   ]
  },
  {
   "cell_type": "code",
   "execution_count": 40,
   "id": "c278d6c2",
   "metadata": {},
   "outputs": [
    {
     "data": {
      "text/plain": [
       "array(['Urban', 'Suburban', 'Rural'], dtype=object)"
      ]
     },
     "execution_count": 40,
     "metadata": {},
     "output_type": "execute_result"
    }
   ],
   "source": [
    "city_data['type'].unique()"
   ]
  },
  {
   "cell_type": "code",
   "execution_count": 41,
   "id": "398b9134",
   "metadata": {},
   "outputs": [
    {
     "data": {
      "text/plain": [
       "66"
      ]
     },
     "execution_count": 41,
     "metadata": {},
     "output_type": "execute_result"
    }
   ],
   "source": [
    "sum(city_data['type'] == 'Urban')"
   ]
  },
  {
   "cell_type": "code",
   "execution_count": 42,
   "id": "862b669f",
   "metadata": {},
   "outputs": [
    {
     "data": {
      "text/plain": [
       "36"
      ]
     },
     "execution_count": 42,
     "metadata": {},
     "output_type": "execute_result"
    }
   ],
   "source": [
    "sum(city_data['type'] == 'Suburban')"
   ]
  },
  {
   "cell_type": "code",
   "execution_count": 43,
   "id": "bf905da2",
   "metadata": {},
   "outputs": [
    {
     "data": {
      "text/plain": [
       "18"
      ]
     },
     "execution_count": 43,
     "metadata": {},
     "output_type": "execute_result"
    }
   ],
   "source": [
    "sum(city_data['type'] == 'Rural')"
   ]
  },
  {
   "cell_type": "markdown",
   "id": "46484db1",
   "metadata": {},
   "source": [
    "# Inspecting Ride Data"
   ]
  },
  {
   "cell_type": "code",
   "execution_count": 44,
   "id": "05b1ac81",
   "metadata": {},
   "outputs": [
    {
     "data": {
      "text/html": [
       "<div>\n",
       "<style scoped>\n",
       "    .dataframe tbody tr th:only-of-type {\n",
       "        vertical-align: middle;\n",
       "    }\n",
       "\n",
       "    .dataframe tbody tr th {\n",
       "        vertical-align: top;\n",
       "    }\n",
       "\n",
       "    .dataframe thead th {\n",
       "        text-align: right;\n",
       "    }\n",
       "</style>\n",
       "<table border=\"1\" class=\"dataframe\">\n",
       "  <thead>\n",
       "    <tr style=\"text-align: right;\">\n",
       "      <th></th>\n",
       "      <th>city</th>\n",
       "      <th>date</th>\n",
       "      <th>fare</th>\n",
       "      <th>ride_id</th>\n",
       "    </tr>\n",
       "  </thead>\n",
       "  <tbody>\n",
       "    <tr>\n",
       "      <th>0</th>\n",
       "      <td>Lake Jonathanshire</td>\n",
       "      <td>2019-01-14 10:14:22</td>\n",
       "      <td>13.83</td>\n",
       "      <td>5739410935873</td>\n",
       "    </tr>\n",
       "    <tr>\n",
       "      <th>1</th>\n",
       "      <td>South Michelleport</td>\n",
       "      <td>2019-03-04 18:24:09</td>\n",
       "      <td>30.24</td>\n",
       "      <td>2343912425577</td>\n",
       "    </tr>\n",
       "    <tr>\n",
       "      <th>2</th>\n",
       "      <td>Port Samanthamouth</td>\n",
       "      <td>2019-02-24 04:29:00</td>\n",
       "      <td>33.44</td>\n",
       "      <td>2005065760003</td>\n",
       "    </tr>\n",
       "    <tr>\n",
       "      <th>3</th>\n",
       "      <td>Rodneyfort</td>\n",
       "      <td>2019-02-10 23:22:03</td>\n",
       "      <td>23.44</td>\n",
       "      <td>5149245426178</td>\n",
       "    </tr>\n",
       "    <tr>\n",
       "      <th>4</th>\n",
       "      <td>South Jack</td>\n",
       "      <td>2019-03-06 04:28:35</td>\n",
       "      <td>34.58</td>\n",
       "      <td>3908451377344</td>\n",
       "    </tr>\n",
       "  </tbody>\n",
       "</table>\n",
       "</div>"
      ],
      "text/plain": [
       "                 city                 date   fare        ride_id\n",
       "0  Lake Jonathanshire  2019-01-14 10:14:22  13.83  5739410935873\n",
       "1  South Michelleport  2019-03-04 18:24:09  30.24  2343912425577\n",
       "2  Port Samanthamouth  2019-02-24 04:29:00  33.44  2005065760003\n",
       "3          Rodneyfort  2019-02-10 23:22:03  23.44  5149245426178\n",
       "4          South Jack  2019-03-06 04:28:35  34.58  3908451377344"
      ]
     },
     "execution_count": 44,
     "metadata": {},
     "output_type": "execute_result"
    }
   ],
   "source": [
    "ride_data.isnull().sum()\n",
    "ride_data.head()"
   ]
  },
  {
   "cell_type": "code",
   "execution_count": 45,
   "id": "37ad79e3",
   "metadata": {},
   "outputs": [
    {
     "data": {
      "text/html": [
       "<div>\n",
       "<style scoped>\n",
       "    .dataframe tbody tr th:only-of-type {\n",
       "        vertical-align: middle;\n",
       "    }\n",
       "\n",
       "    .dataframe tbody tr th {\n",
       "        vertical-align: top;\n",
       "    }\n",
       "\n",
       "    .dataframe thead th {\n",
       "        text-align: right;\n",
       "    }\n",
       "</style>\n",
       "<table border=\"1\" class=\"dataframe\">\n",
       "  <thead>\n",
       "    <tr style=\"text-align: right;\">\n",
       "      <th></th>\n",
       "      <th>city</th>\n",
       "      <th>date</th>\n",
       "      <th>fare</th>\n",
       "      <th>ride_id</th>\n",
       "      <th>driver_count</th>\n",
       "      <th>type</th>\n",
       "    </tr>\n",
       "  </thead>\n",
       "  <tbody>\n",
       "    <tr>\n",
       "      <th>0</th>\n",
       "      <td>Lake Jonathanshire</td>\n",
       "      <td>2019-01-14 10:14:22</td>\n",
       "      <td>13.83</td>\n",
       "      <td>5739410935873</td>\n",
       "      <td>5</td>\n",
       "      <td>Urban</td>\n",
       "    </tr>\n",
       "    <tr>\n",
       "      <th>1</th>\n",
       "      <td>South Michelleport</td>\n",
       "      <td>2019-03-04 18:24:09</td>\n",
       "      <td>30.24</td>\n",
       "      <td>2343912425577</td>\n",
       "      <td>72</td>\n",
       "      <td>Urban</td>\n",
       "    </tr>\n",
       "    <tr>\n",
       "      <th>2</th>\n",
       "      <td>Port Samanthamouth</td>\n",
       "      <td>2019-02-24 04:29:00</td>\n",
       "      <td>33.44</td>\n",
       "      <td>2005065760003</td>\n",
       "      <td>57</td>\n",
       "      <td>Urban</td>\n",
       "    </tr>\n",
       "    <tr>\n",
       "      <th>3</th>\n",
       "      <td>Rodneyfort</td>\n",
       "      <td>2019-02-10 23:22:03</td>\n",
       "      <td>23.44</td>\n",
       "      <td>5149245426178</td>\n",
       "      <td>34</td>\n",
       "      <td>Urban</td>\n",
       "    </tr>\n",
       "    <tr>\n",
       "      <th>4</th>\n",
       "      <td>South Jack</td>\n",
       "      <td>2019-03-06 04:28:35</td>\n",
       "      <td>34.58</td>\n",
       "      <td>3908451377344</td>\n",
       "      <td>46</td>\n",
       "      <td>Urban</td>\n",
       "    </tr>\n",
       "  </tbody>\n",
       "</table>\n",
       "</div>"
      ],
      "text/plain": [
       "                 city                 date   fare        ride_id  \\\n",
       "0  Lake Jonathanshire  2019-01-14 10:14:22  13.83  5739410935873   \n",
       "1  South Michelleport  2019-03-04 18:24:09  30.24  2343912425577   \n",
       "2  Port Samanthamouth  2019-02-24 04:29:00  33.44  2005065760003   \n",
       "3          Rodneyfort  2019-02-10 23:22:03  23.44  5149245426178   \n",
       "4          South Jack  2019-03-06 04:28:35  34.58  3908451377344   \n",
       "\n",
       "   driver_count   type  \n",
       "0             5  Urban  \n",
       "1            72  Urban  \n",
       "2            57  Urban  \n",
       "3            34  Urban  \n",
       "4            46  Urban  "
      ]
     },
     "execution_count": 45,
     "metadata": {},
     "output_type": "execute_result"
    }
   ],
   "source": [
    "city_ride_data_df = pd.merge(ride_data, city_data, how = 'left', on = ['city', 'city'])\n",
    "city_ride_data_df.head()"
   ]
  },
  {
   "cell_type": "code",
   "execution_count": 50,
   "id": "0d09e073",
   "metadata": {},
   "outputs": [
    {
     "data": {
      "text/plain": [
       "city            0\n",
       "date            0\n",
       "fare            0\n",
       "ride_id         0\n",
       "driver_count    0\n",
       "type            0\n",
       "dtype: int64"
      ]
     },
     "execution_count": 50,
     "metadata": {},
     "output_type": "execute_result"
    }
   ],
   "source": [
    "city_ride_data_df.isnull().sum()"
   ]
  },
  {
   "cell_type": "code",
   "execution_count": 129,
   "id": "a26b3fc0",
   "metadata": {},
   "outputs": [
    {
     "data": {
      "text/plain": [
       "type\n",
       "Rural       34.623440\n",
       "Suburban    30.970128\n",
       "Urban       24.525772\n",
       "Name: fare, dtype: float64"
      ]
     },
     "execution_count": 129,
     "metadata": {},
     "output_type": "execute_result"
    }
   ],
   "source": [
    "yaxis = city_ride_data_df.groupby(['type']).mean()['fare']\n"
   ]
  },
  {
   "cell_type": "code",
   "execution_count": 138,
   "id": "2a2e4f09",
   "metadata": {},
   "outputs": [],
   "source": [
    "# Filtering Types to Create Bubble Chart\n",
    "urban_cities =city_ride_data_df[city_ride_data_df['type'] == 'Urban']\n",
    "suburban_cities = city_ride_data_df[city_ride_data_df['type']=='Suburban']\n",
    "rural_cities = city_ride_data_df[city_ride_data_df['type'] == 'Rural']\n"
   ]
  },
  {
   "cell_type": "code",
   "execution_count": 181,
   "id": "4c2e11b9",
   "metadata": {},
   "outputs": [],
   "source": [
    "#Getting Cout of all rides of each city in the type\n",
    "urban_city_count = urban_cities.groupby('city').count()['ride_id']\n",
    "suburban_city_count = suburban_cities.groupby('city').count()['ride_id']\n",
    "rural_city_count = rural_cities.groupby('city').count()['ride_id']\n"
   ]
  },
  {
   "cell_type": "code",
   "execution_count": 155,
   "id": "840c04f6",
   "metadata": {},
   "outputs": [],
   "source": [
    "#Getting Average Fare per location\n",
    "urban_city_mean = urban_cities.groupby('city').mean()['fare']\n",
    "suburban_city_mean = suburban_cities.groupby('city').mean()['fare']\n",
    "rural_city_mean = rural_cities.groupby('city').mean()['fare']\n"
   ]
  },
  {
   "cell_type": "code",
   "execution_count": 156,
   "id": "5bcece89",
   "metadata": {},
   "outputs": [],
   "source": [
    "#Average Driver\n",
    "driver_mean_urban = urban_cities.groupby('city').mean()['driver_count']\n",
    "driver_mean_rural = rural_cities.groupby('city').mean()['driver_count']\n",
    "driver_mean_suburban = suburban_cities.groupby('city').mean()['driver_count']"
   ]
  },
  {
   "cell_type": "markdown",
   "id": "6c841bd2",
   "metadata": {},
   "source": [
    "# Scatter for every type\n"
   ]
  },
  {
   "cell_type": "code",
   "execution_count": 168,
   "id": "bcbf22b7",
   "metadata": {},
   "outputs": [
    {
     "data": {
      "text/plain": [
       "<matplotlib.legend.Legend at 0x1b7f515e508>"
      ]
     },
     "execution_count": 168,
     "metadata": {},
     "output_type": "execute_result"
    },
    {
     "data": {
      "image/png": "[encoded data removed]",
      "text/plain": [
       "<Figure size 432x288 with 1 Axes>"
      ]
     },
     "metadata": {
      "needs_background": "light"
     },
     "output_type": "display_data"
    }
   ],
   "source": [
    "plt.scatter(urban_city_count, urban_city_mean, s= 10 *driver_mean_urban, label = \"Urban\", c ='coral', edgecolor = 'black')\n",
    "plt.xlabel('Count Of Drivers')\n",
    "plt.ylabel('Fare ($)')\n",
    "plt.title('# of Drivers Vs Fare Cost')\n",
    "plt.grid(True)\n",
    "plt.legend()"
   ]
  },
  {
   "cell_type": "code",
   "execution_count": 177,
   "id": "9aa47f32",
   "metadata": {},
   "outputs": [
    {
     "data": {
      "text/plain": [
       "<matplotlib.legend.Legend at 0x1b7f53e8708>"
      ]
     },
     "execution_count": 177,
     "metadata": {},
     "output_type": "execute_result"
    },
    {
     "data": {
      "image/png": "[encoded data removed]",
      "text/plain": [
       "<Figure size 432x288 with 1 Axes>"
      ]
     },
     "metadata": {
      "needs_background": "light"
     },
     "output_type": "display_data"
    }
   ],
   "source": [
    "plt.scatter(rural_city_count, rural_city_mean, s= 10*driver_mean_rural, c = 'magenta', edgecolor = 'black', label = 'Rural')\n",
    "plt.xlabel('Count of Drivers')\n",
    "plt.ylabel('Fare ($)')\n",
    "plt.title('# Of Drivers Vs Fare')\n",
    "plt.grid(True)\n",
    "plt.legend()"
   ]
  },
  {
   "cell_type": "code",
   "execution_count": 187,
   "id": "b2f1c9ce",
   "metadata": {},
   "outputs": [
    {
     "data": {
      "text/plain": [
       "<matplotlib.legend.Legend at 0x1b7f66afd88>"
      ]
     },
     "execution_count": 187,
     "metadata": {},
     "output_type": "execute_result"
    },
    {
     "data": {
      "image/png": "[encoded data removed]",
      "text/plain": [
       "<Figure size 432x288 with 1 Axes>"
      ]
     },
     "metadata": {
      "needs_background": "light"
     },
     "output_type": "display_data"
    }
   ],
   "source": [
    "plt.scatter(suburban_city_count, suburban_city_mean, c ='skyblue', s = 10*driver_mean_suburban, edgecolor ='black', label = 'Suburban')\n",
    "plt.xlabel('Count of Drivers')\n",
    "plt.ylabel('Fare ($)')\n",
    "plt.title('# Of Drivers Vs Fare')\n",
    "plt.grid(True)\n",
    "plt.legend()"
   ]
  },
  {
   "cell_type": "code",
   "execution_count": 212,
   "id": "278db3c3",
   "metadata": {},
   "outputs": [
    {
     "data": {
      "image/png": "[encoded data removed]",
      "text/plain": [
       "<Figure size 432x288 with 1 Axes>"
      ]
     },
     "metadata": {
      "needs_background": "light"
     },
     "output_type": "display_data"
    },
    {
     "data": {
      "text/plain": [
       "<Figure size 432x288 with 0 Axes>"
      ]
     },
     "metadata": {},
     "output_type": "display_data"
    }
   ],
   "source": [
    "plt.scatter(urban_city_count, urban_city_mean, s= 10 *driver_mean_urban, label = \"Urban\", c ='coral', edgecolor = 'black')\n",
    "plt.scatter(rural_city_count, rural_city_mean, s= 10*driver_mean_rural, c = 'magenta', edgecolor = 'black', label = 'Rural')\n",
    "plt.scatter(suburban_city_count, suburban_city_mean, c ='skyblue', s = 10*driver_mean_suburban, edgecolor ='black', label = 'Suburban')\n",
    "\n",
    "plt.title(\"PyBer Ride-Sharing Data (2019)\", fontsize=20)\n",
    "plt.ylabel(\"Average Fare ($)\", fontsize=12)\n",
    "plt.xlabel(\"Total Number of Rides (Per City)\", fontsize=12)\n",
    "plt.grid(True)\n",
    "\n",
    "# Create a legend\n",
    "lgnd = plt.legend(fontsize=\"12\", mode=\"Expanded\",\n",
    "         scatterpoints=1, title=\"City Types\")\n",
    "\n",
    "lgnd.legendHandles[0]._sizes = [50]\n",
    "lgnd.legendHandles[1]._sizes = [50]\n",
    "lgnd.legendHandles[2]._sizes = [50]\n",
    "lgnd.get_title().set_fontsize(15)\n",
    "\n",
    "# Incorporate a text label about circle size.\n",
    "plt.text(45, 35, \"Note: Circle size correlates with driver count per city.\", fontsize=\"12\")\n",
    "\n",
    "\n",
    "plt.show()\n",
    "\n",
    "# Save the figure.\n",
    "plt.savefig(\"Fig1.png\")"
   ]
  },
  {
   "cell_type": "markdown",
   "id": "fb8e2d9b",
   "metadata": {},
   "source": [
    "# Summary Statistics"
   ]
  },
  {
   "cell_type": "code",
   "execution_count": 225,
   "id": "2b8519e7",
   "metadata": {},
   "outputs": [
    {
     "data": {
      "text/plain": [
       "count    36.000000\n",
       "mean     17.361111\n",
       "std       4.323707\n",
       "min       9.000000\n",
       "25%      14.000000\n",
       "50%      17.000000\n",
       "75%      19.250000\n",
       "max      27.000000\n",
       "Name: ride_id, dtype: float64"
      ]
     },
     "execution_count": 225,
     "metadata": {},
     "output_type": "execute_result"
    }
   ],
   "source": [
    "urban_cities.describe()\n",
    "suburban_city_count.describe()"
   ]
  },
  {
   "cell_type": "code",
   "execution_count": 220,
   "id": "c9a81744",
   "metadata": {},
   "outputs": [
    {
     "data": {
      "text/plain": [
       "count    18.000000\n",
       "mean      6.944444\n",
       "std       2.508157\n",
       "min       3.000000\n",
       "25%       5.250000\n",
       "50%       6.000000\n",
       "75%       8.750000\n",
       "max      12.000000\n",
       "Name: ride_id, dtype: float64"
      ]
     },
     "execution_count": 220,
     "metadata": {},
     "output_type": "execute_result"
    }
   ],
   "source": [
    "rural_city_count.describe()"
   ]
  },
  {
   "cell_type": "code",
   "execution_count": 222,
   "id": "fefdd32f",
   "metadata": {},
   "outputs": [
    {
     "data": {
      "text/plain": [
       "(24.62, 17.36, 6.94)"
      ]
     },
     "execution_count": 222,
     "metadata": {},
     "output_type": "execute_result"
    }
   ],
   "source": [
    "round(urban_city_count.mean(),2), round(suburban_city_count.mean(),2), round(rural_city_count.mean(),2)"
   ]
  },
  {
   "cell_type": "code",
   "execution_count": 228,
   "id": "57e57f7c",
   "metadata": {},
   "outputs": [
    {
     "data": {
      "text/plain": [
       "(24.0, 17.0, 6.0)"
      ]
     },
     "execution_count": 228,
     "metadata": {},
     "output_type": "execute_result"
    }
   ],
   "source": [
    "round(urban_city_count.median(),2), round(suburban_city_count.median(),2), round(rural_city_count.median(),2)"
   ]
  },
  {
   "cell_type": "code",
   "execution_count": 229,
   "id": "2f2e32a2",
   "metadata": {},
   "outputs": [
    {
     "data": {
      "text/plain": [
       "(0    22\n",
       " 1    25\n",
       " dtype: int64,\n",
       " 0    17\n",
       " dtype: int64,\n",
       " 0    6\n",
       " dtype: int64)"
      ]
     },
     "execution_count": 229,
     "metadata": {},
     "output_type": "execute_result"
    }
   ],
   "source": [
    "round(urban_city_count.mode(),2), round(suburban_city_count.mode(),2), round(rural_city_count.mode(),2)"
   ]
  },
  {
   "cell_type": "markdown",
   "id": "0830cdb5",
   "metadata": {},
   "source": [
    "# Using Numpy"
   ]
  },
  {
   "cell_type": "code",
   "execution_count": 254,
   "id": "842ffedc",
   "metadata": {},
   "outputs": [
    {
     "name": "stdout",
     "output_type": "stream",
     "text": [
      "The mean for the ride counts for urban trips is 24.62.\n",
      "The median for the ride counts for the urban trip is 24.00.\n",
      "The mode for the ride counts for the urban trip is ModeResult(mode=array([22], dtype=int64), count=array([7])).\n"
     ]
    }
   ],
   "source": [
    "mean_urban_city =np.mean(urban_city_count)\n",
    "median_urban_city = np.median(urban_city_count)\n",
    "mode_urban_city = sts.mode(urban_city_count)\n",
    "print(f\"The mean for the ride counts for urban trips is {mean_urban_city:.2f}.\")\n",
    "print(f'The median for the ride counts for the urban trip is {median_urban_city:.2f}.')\n",
    "print(f'The mode for the ride counts for the urban trip is {mode_urban_city}.')\n"
   ]
  },
  {
   "cell_type": "code",
   "execution_count": 258,
   "id": "c112e0d2",
   "metadata": {},
   "outputs": [
    {
     "name": "stdout",
     "output_type": "stream",
     "text": [
      "The mean for the ride count for suburban trips is 17.36.\n",
      "The median for the ride count for the susburban trip is  17.00.\n",
      "The mode for the ride count for the suburban trip is ModeResult(mode=array([17], dtype=int64), count=array([7])).\n"
     ]
    }
   ],
   "source": [
    "mean_suburban_city_count = np.mean(suburban_city_count)\n",
    "median_suburban_city = np.median(suburban_city_count)\n",
    "mode_suburban_city = sts.mode(suburban_city_count)\n",
    "print(f'The mean for the ride count for suburban trips is {mean_suburban_city_count:.2f}.')\n",
    "print(f'The median for the ride count for the susburban trip is {median_suburban_city : .2f}.')\n",
    "print(f'The mode for the ride count for the suburban trip is {mode_suburban_city}.')"
   ]
  },
  {
   "cell_type": "code",
   "execution_count": 259,
   "id": "70de751b",
   "metadata": {},
   "outputs": [
    {
     "name": "stdout",
     "output_type": "stream",
     "text": [
      "The mode for the ride count for rural trips is ModeResult(mode=array([6], dtype=int64), count=array([5])).\n"
     ]
    }
   ],
   "source": [
    "mode_rural_city_count = sts.mode(rural_city_count)\n",
    "print(f'The mode for the ride count for rural trips is { mode_rural_city_count:}.')"
   ]
  },
  {
   "cell_type": "markdown",
   "id": "01fe46ba",
   "metadata": {},
   "source": [
    "# Summary Statistics"
   ]
  },
  {
   "cell_type": "code",
   "execution_count": 266,
   "id": "30a44d0e",
   "metadata": {},
   "outputs": [
    {
     "data": {
      "text/plain": [
       "0    13.83\n",
       "1    30.24\n",
       "2    33.44\n",
       "3    23.44\n",
       "4    34.58\n",
       "Name: fare, dtype: float64"
      ]
     },
     "execution_count": 266,
     "metadata": {},
     "output_type": "execute_result"
    }
   ],
   "source": [
    "# Creating a df for fares only\n",
    "urban_fares = urban_cities['fare']\n",
    "rural_fares = rural_cities['fare']\n",
    "suburban_fares = suburban_cities['fare']\n",
    "urban_fares.head()"
   ]
  },
  {
   "cell_type": "code",
   "execution_count": 262,
   "id": "d51279f6",
   "metadata": {},
   "outputs": [
    {
     "name": "stdout",
     "output_type": "stream",
     "text": [
      "The mean fare price for urban trips is $24.53.\n",
      "The median fare price for urban trips is $24.64.\n",
      "The mode fare price for urban trips is ModeResult(mode=array([22.86]), count=array([5])).\n"
     ]
    }
   ],
   "source": [
    "# Calculate the measures of central tendency for the average fare for the urban cities.\n",
    "mean_urban_fares = np.mean(urban_fares)\n",
    "print(f\"The mean fare price for urban trips is ${mean_urban_fares:.2f}.\")\n",
    "\n",
    "median_urban_fares = np.median(urban_fares)\n",
    "print(f\"The median fare price for urban trips is ${median_urban_fares:.2f}.\")\n",
    "\n",
    "mode_urban_fares = sts.mode(urban_fares)\n",
    "print(f\"The mode fare price for urban trips is {mode_urban_fares}.\")"
   ]
  },
  {
   "cell_type": "code",
   "execution_count": 265,
   "id": "1fd076e4",
   "metadata": {},
   "outputs": [
    {
     "name": "stdout",
     "output_type": "stream",
     "text": [
      "34.623440000000016\n",
      "30.97012800000002\n"
     ]
    },
    {
     "data": {
      "text/plain": [
       "(None, None)"
      ]
     },
     "execution_count": 265,
     "metadata": {},
     "output_type": "execute_result"
    }
   ],
   "source": [
    "print(np.mean(rural_fares)),print(np.mean(suburban_fares))\n"
   ]
  },
  {
   "cell_type": "code",
   "execution_count": 267,
   "id": "002da225",
   "metadata": {},
   "outputs": [],
   "source": [
    "# Creating a df from drive count and finding the measure of central tendency"
   ]
  },
  {
   "cell_type": "code",
   "execution_count": 371,
   "id": "343936ed",
   "metadata": {},
   "outputs": [],
   "source": [
    "urban_drivers = urban_cities['driver_count']\n",
    "rural_drivers = rural_cities['driver_count']\n",
    "suburban_drivers = suburban_cities['driver_count']\n"
   ]
  },
  {
   "cell_type": "code",
   "execution_count": 271,
   "id": "9f2081bd",
   "metadata": {},
   "outputs": [],
   "source": [
    "urban_drivers_mean = np.mean(urban_drivers)\n",
    "rural_drivers_mean = np.mean(rural_drivers)\n",
    "suburban_drivers_mean = np.mean(suburban_drivers)"
   ]
  },
  {
   "cell_type": "code",
   "execution_count": 273,
   "id": "9a4a5b8c",
   "metadata": {},
   "outputs": [],
   "source": [
    "urban_drivers_median = np.median(urban_drivers)\n",
    "rural_drivers_median = np.median(rural_drivers)\n",
    "suburban_drivers_median = np.median(suburban_drivers)"
   ]
  },
  {
   "cell_type": "code",
   "execution_count": 282,
   "id": "eb71cb21",
   "metadata": {},
   "outputs": [],
   "source": [
    "urban_drivers_mode = sts.mode(urban_drivers)\n",
    "rural_drivers_mode = sts.mode(rural_drivers)\n",
    "suburban_drivers_mode = sts.mode(rural_drivers)"
   ]
  },
  {
   "cell_type": "code",
   "execution_count": 288,
   "id": "8a4a26b5",
   "metadata": {},
   "outputs": [
    {
     "data": {
      "text/html": [
       "<div>\n",
       "<style scoped>\n",
       "    .dataframe tbody tr th:only-of-type {\n",
       "        vertical-align: middle;\n",
       "    }\n",
       "\n",
       "    .dataframe tbody tr th {\n",
       "        vertical-align: top;\n",
       "    }\n",
       "\n",
       "    .dataframe thead th {\n",
       "        text-align: right;\n",
       "    }\n",
       "</style>\n",
       "<table border=\"1\" class=\"dataframe\">\n",
       "  <thead>\n",
       "    <tr style=\"text-align: right;\">\n",
       "      <th></th>\n",
       "      <th>Mean</th>\n",
       "      <th>Median</th>\n",
       "      <th>Mode</th>\n",
       "    </tr>\n",
       "  </thead>\n",
       "  <tbody>\n",
       "    <tr>\n",
       "      <th>0</th>\n",
       "      <td>13.712</td>\n",
       "      <td>16.0</td>\n",
       "      <td>[1]</td>\n",
       "    </tr>\n",
       "    <tr>\n",
       "      <th>1</th>\n",
       "      <td>13.712</td>\n",
       "      <td>16.0</td>\n",
       "      <td>[32]</td>\n",
       "    </tr>\n",
       "  </tbody>\n",
       "</table>\n",
       "</div>"
      ],
      "text/plain": [
       "     Mean  Median  Mode\n",
       "0  13.712    16.0   [1]\n",
       "1  13.712    16.0  [32]"
      ]
     },
     "execution_count": 288,
     "metadata": {},
     "output_type": "execute_result"
    }
   ],
   "source": [
    "urban_stat_df = pd.DataFrame({\n",
    "    'Mean': urban_drivers_mean,\n",
    "    'Median': urban_drivers_median,\n",
    "    'Mode': urban_drivers_mode\n",
    "})\n",
    "urban_stat_df\n",
    "\n",
    "rural_stat_df = pd.DataFrame({\n",
    "    'Mean': rural_drivers_mean,\n",
    "    'Median': rural_drivers_median,\n",
    "    'Mode': rural_drivers_mode\n",
    "})\n",
    "rural_stat_df\n",
    "\n",
    "suburban_stat_df= pd.DataFrame({\n",
    "    'Mean': suburban_drivers_mean,\n",
    "    'Median': suburban_drivers_median,\n",
    "    'Mode': suburban_drivers_mode\n",
    "})\n",
    "suburban_stat_df"
   ]
  },
  {
   "cell_type": "markdown",
   "id": "d8442ec5",
   "metadata": {},
   "source": [
    "# Box and Whisker plot"
   ]
  },
  {
   "cell_type": "code",
   "execution_count": 310,
   "id": "92dbe0ef",
   "metadata": {},
   "outputs": [
    {
     "data": {
      "image/png": "[encoded data removed]",
      "text/plain": [
       "<Figure size 432x288 with 1 Axes>"
      ]
     },
     "metadata": {
      "needs_background": "light"
     },
     "output_type": "display_data"
    }
   ],
   "source": [
    "x_label = 'Urban'\n",
    "fig, ax = plt.subplots()\n",
    "ax.boxplot(urban_city_count, x_label)\n",
    "plt.ylabel('Ride Count',size = 18)\n",
    "plt.title('Ride Count Analysis', size = 19)\n",
    "\n",
    "ax.set_yticks(np.arange(10, 41, step = 2.0 ))\n",
    "plt.grid(True)\n",
    "plt.show()"
   ]
  },
  {
   "cell_type": "markdown",
   "id": "b6da5d17",
   "metadata": {},
   "source": [
    "# 5.4.4 Creating Whisker Plots"
   ]
  },
  {
   "cell_type": "code",
   "execution_count": 330,
   "id": "56d0c2e0",
   "metadata": {},
   "outputs": [
    {
     "data": {
      "image/png": "[encoded data removed]",
      "text/plain": [
       "<Figure size 432x288 with 1 Axes>"
      ]
     },
     "metadata": {
      "needs_background": "light"
     },
     "output_type": "display_data"
    }
   ],
   "source": [
    "x_label = ['Urban','Rural', 'Suburban']\n",
    "ride_count_data = [urban_city_count, rural_city_count, suburban_city_count]\n",
    "fig, ax = plt.subplots()\n",
    "ax.boxplot(ride_count_data, x_label)\n",
    "ax.set_ylabel('Driver Count')\n",
    "ax.set_title('Driver Count Analysis')\n",
    "ax.set_yticks(np.arange(0, 45, step = 3.0))\n",
    "plt.grid(True)\n",
    "\n",
    "plt.savefig('Pyber1')\n",
    "plt.show()\n"
   ]
  },
  {
   "cell_type": "code",
   "execution_count": 334,
   "id": "f01ceed6",
   "metadata": {},
   "outputs": [
    {
     "data": {
      "text/plain": [
       "city\n",
       "Amandaburgh            18\n",
       "Barajasview            22\n",
       "Carriemouth            27\n",
       "Christopherfurt        27\n",
       "Deanville              19\n",
       "                       ..\n",
       "West Patrickchester    16\n",
       "West Robert            31\n",
       "West Samuelburgh       25\n",
       "Williamsstad           23\n",
       "Williamsview           20\n",
       "Name: ride_id, Length: 66, dtype: int64"
      ]
     },
     "execution_count": 334,
     "metadata": {},
     "output_type": "execute_result"
    }
   ],
   "source": [
    "urban_city_count"
   ]
  },
  {
   "cell_type": "code",
   "execution_count": 336,
   "id": "94912bc4",
   "metadata": {},
   "outputs": [
    {
     "data": {
      "text/plain": [
       "'West Angela'"
      ]
     },
     "execution_count": 336,
     "metadata": {},
     "output_type": "execute_result"
    }
   ],
   "source": [
    "urban_city_outlier = urban_city_count[urban_city_count == 39].index[0]\n",
    "urban_city_outlier"
   ]
  },
  {
   "cell_type": "code",
   "execution_count": 347,
   "id": "e2340e32",
   "metadata": {},
   "outputs": [
    {
     "data": {
      "image/png": "[encoded data removed]",
      "text/plain": [
       "<Figure size 432x288 with 1 Axes>"
      ]
     },
     "metadata": {
      "needs_background": "light"
     },
     "output_type": "display_data"
    },
    {
     "name": "stdout",
     "output_type": "stream",
     "text": [
      "Summary Statistics\n"
     ]
    },
    {
     "data": {
      "text/plain": [
       "count    1625.000000\n",
       "mean       24.525772\n",
       "std        11.738649\n",
       "min         4.050000\n",
       "25%        14.550000\n",
       "50%        24.640000\n",
       "75%        34.580000\n",
       "max        44.970000\n",
       "Name: fare, dtype: float64"
      ]
     },
     "execution_count": 347,
     "metadata": {},
     "output_type": "execute_result"
    }
   ],
   "source": [
    "x_label = 'Urban'\n",
    "fig, ax = plt.subplots()\n",
    "ax.boxplot(urban_fares, x_label)\n",
    "ax.set_xlabel('Urban')\n",
    "ax.set_ylabel('Fare ($)')\n",
    "ax.set_title('Urban Fare Analysis')\n",
    "ax.set_yticks(np.arange(2,51, step = 5))\n",
    "plt.grid()\n",
    "plt.show()\n",
    "print('Summary Statistics')\n",
    "urban_fares.describe()"
   ]
  },
  {
   "cell_type": "code",
   "execution_count": 368,
   "id": "fcf5d39b",
   "metadata": {},
   "outputs": [
    {
     "name": "stdout",
     "output_type": "stream",
     "text": [
      "Summary Statistics\n",
      "Urban:\n",
      " count    1625.000000\n",
      "mean       24.525772\n",
      "std        11.738649\n",
      "min         4.050000\n",
      "25%        14.550000\n",
      "50%        24.640000\n",
      "75%        34.580000\n",
      "max        44.970000\n",
      "Name: fare, dtype: float64\n",
      "Rural:\n",
      " count    125.000000\n",
      "mean      34.623440\n",
      "std       14.558046\n",
      "min       10.110000\n",
      "25%       19.900000\n",
      "50%       37.050000\n",
      "75%       47.070000\n",
      "max       58.550000\n",
      "Name: fare, dtype: float64\n",
      "Suburban:\n",
      " count    625.000000\n",
      "mean      30.970128\n",
      "std       10.677508\n",
      "min       12.050000\n",
      "25%       21.970000\n",
      "50%       30.750000\n",
      "75%       39.830000\n",
      "max       49.960000\n",
      "Name: fare, dtype: float64\n"
     ]
    },
    {
     "data": {
      "image/png": "[encoded data removed]",
      "text/plain": [
       "<Figure size 432x288 with 1 Axes>"
      ]
     },
     "metadata": {
      "needs_background": "light"
     },
     "output_type": "display_data"
    }
   ],
   "source": [
    "x_label = ['Urban', 'Rural', 'Suburban']\n",
    "fare_analysis = [urban_fares, rural_fares, suburban_fares]\n",
    "fig, ax = plt.subplots()\n",
    "ax.boxplot(fare_analysis,labels = x_label)\n",
    "ax.set_yticks(np.arange(2,65,step = 3))\n",
    "ax.set_ylabel('Fare ($)', size = 16)\n",
    "ax.set_xlabel('Cities', size = 16)\n",
    "ax.set_title('Summary Stats', size = 18)\n",
    "plt.grid()\n",
    "print('Summary Statistics')\n",
    "print('Urban:\\n',\n",
    "      urban_fares.describe())\n",
    "print('Rural:\\n',\n",
    "      rural_fares.describe())\n",
    "print('Suburban:\\n',\n",
    "      suburban_fares.describe())\n",
    "\n",
    "plt.savefig('Pyber2')\n",
    "plt.show()"
   ]
  },
  {
   "cell_type": "code",
   "execution_count": 381,
   "id": "c52f8038",
   "metadata": {},
   "outputs": [
    {
     "data": {
      "image/png": "[encoded data removed]",
      "text/plain": [
       "<Figure size 432x288 with 1 Axes>"
      ]
     },
     "metadata": {
      "needs_background": "light"
     },
     "output_type": "display_data"
    }
   ],
   "source": [
    "x_labels = ['Urban','Rural', 'Suburban']\n",
    "fig, ax = plt.subplots()\n",
    "ax.boxplot([urban_drivers, rural_drivers, suburban_drivers], labels = x_labels)\n",
    "ax.set_yticks(np.arange(2,85,step = 10))\n",
    "ax.set_ylabel('# of Drivers', size = 13)\n",
    "ax.set_xlabel('City', size = 13)\n",
    "ax.grid()\n",
    "ax.set_title('Driver Count Per City', size = 13)\n",
    "plt.savefig('Whisker Driver')\n",
    "plt.show()"
   ]
  },
  {
   "cell_type": "code",
   "execution_count": 394,
   "id": "c57df22c",
   "metadata": {},
   "outputs": [],
   "source": [
    "# Filtering Types to Create Pie Chart\n"
   ]
  },
  {
   "cell_type": "code",
   "execution_count": 404,
   "id": "cde6183f",
   "metadata": {},
   "outputs": [
    {
     "data": {
      "text/plain": [
       "type\n",
       "Rural        4327.93\n",
       "Suburban    19356.33\n",
       "Urban       39854.38\n",
       "Name: fare, dtype: float64"
      ]
     },
     "execution_count": 404,
     "metadata": {},
     "output_type": "execute_result"
    }
   ],
   "source": [
    "sum_fares_by_type = city_ride_data_df.groupby([\"type\"]).sum()[\"fare\"]\n",
    "sum_fares_by_type"
   ]
  },
  {
   "cell_type": "code",
   "execution_count": 406,
   "id": "eefef3ae",
   "metadata": {},
   "outputs": [
    {
     "data": {
      "text/plain": [
       "63538.64"
      ]
     },
     "execution_count": 406,
     "metadata": {},
     "output_type": "execute_result"
    }
   ],
   "source": [
    "total_fare = city_ride_data_df['fare'].sum()\n",
    "total_fare"
   ]
  },
  {
   "cell_type": "code",
   "execution_count": 409,
   "id": "8158e95a",
   "metadata": {},
   "outputs": [
    {
     "data": {
      "text/plain": [
       "type\n",
       "Rural        6.81\n",
       "Suburban    30.46\n",
       "Urban       62.72\n",
       "Name: fare, dtype: float64"
      ]
     },
     "execution_count": 409,
     "metadata": {},
     "output_type": "execute_result"
    }
   ],
   "source": [
    "percentages_fares = sum_fares_by_type / total_fare * 100\n",
    "round(percentages_fares,2)"
   ]
  },
  {
   "cell_type": "code",
   "execution_count": 435,
   "id": "21713a7c",
   "metadata": {},
   "outputs": [
    {
     "data": {
      "image/png": "[encoded data removed]",
      "text/plain": [
       "<Figure size 432x288 with 1 Axes>"
      ]
     },
     "metadata": {},
     "output_type": "display_data"
    }
   ],
   "source": [
    "name = ['Rural', 'Suburban', 'Urban']\n",
    "plt.pie(percentages_fares, labels =  name, \n",
    "        colors = ['skyblue', 'gold', 'lightcoral']\n",
    "        ,autopct = '%1.1f%%', startangle = 150,\n",
    "        shadow = True,explode = [0,0,.1])\n",
    "plt.title('% of Fares by Type')\n",
    "plt.savefig('Piechartfares.png')\n",
    "plt.show()"
   ]
  },
  {
   "cell_type": "code",
   "execution_count": 442,
   "id": "5d391a6e",
   "metadata": {},
   "outputs": [],
   "source": [
    "rides_by_city = city_ride_data_df.groupby(['type']).count()['ride_id']\n",
    "total_rides = city_ride_data_df['ride_id'].count()"
   ]
  },
  {
   "cell_type": "code",
   "execution_count": 445,
   "id": "a33d9aaa",
   "metadata": {},
   "outputs": [
    {
     "data": {
      "text/plain": [
       "type\n",
       "Rural        5.26\n",
       "Suburban    26.32\n",
       "Urban       68.42\n",
       "Name: ride_id, dtype: float64"
      ]
     },
     "execution_count": 445,
     "metadata": {},
     "output_type": "execute_result"
    }
   ],
   "source": [
    "percentage_ride = rides_by_city / total_rides * 100\n",
    "round(percentage_ride,2)"
   ]
  },
  {
   "cell_type": "code",
   "execution_count": 465,
   "id": "4b2183ae",
   "metadata": {},
   "outputs": [
    {
     "ename": "NameError",
     "evalue": "name 'figsize' is not defined",
     "output_type": "error",
     "traceback": [
      "\u001b[1;31m---------------------------------------------------------------------------\u001b[0m",
      "\u001b[1;31mNameError\u001b[0m                                 Traceback (most recent call last)",
      "\u001b[1;32m~\\AppData\\Local\\Temp/ipykernel_8484/3470725178.py\u001b[0m in \u001b[0;36m<module>\u001b[1;34m\u001b[0m\n\u001b[0;32m      1\u001b[0m \u001b[0mx_label\u001b[0m \u001b[1;33m=\u001b[0m \u001b[1;33m[\u001b[0m\u001b[1;34m'Rural'\u001b[0m\u001b[1;33m,\u001b[0m\u001b[1;34m'Suburban'\u001b[0m\u001b[1;33m,\u001b[0m \u001b[1;34m'Urban'\u001b[0m \u001b[1;33m]\u001b[0m\u001b[1;33m\u001b[0m\u001b[1;33m\u001b[0m\u001b[0m\n\u001b[1;32m----> 2\u001b[1;33m \u001b[0mplt\u001b[0m\u001b[1;33m.\u001b[0m\u001b[0msubplots\u001b[0m\u001b[1;33m(\u001b[0m\u001b[0mfigsize\u001b[0m\u001b[1;33m(\u001b[0m\u001b[1;36m12\u001b[0m\u001b[1;33m,\u001b[0m\u001b[1;36m7\u001b[0m\u001b[1;33m)\u001b[0m\u001b[1;33m)\u001b[0m\u001b[1;33m\u001b[0m\u001b[1;33m\u001b[0m\u001b[0m\n\u001b[0m\u001b[0;32m      3\u001b[0m plt.pie(percentage_ride, labels = x_label,\n\u001b[0;32m      4\u001b[0m         \u001b[0mcolors\u001b[0m \u001b[1;33m=\u001b[0m \u001b[1;33m[\u001b[0m\u001b[1;34m'skyblue'\u001b[0m\u001b[1;33m,\u001b[0m\u001b[1;34m'lightcoral'\u001b[0m\u001b[1;33m,\u001b[0m\u001b[1;34m'lightgreen'\u001b[0m\u001b[1;33m]\u001b[0m\u001b[1;33m,\u001b[0m\u001b[1;33m\u001b[0m\u001b[1;33m\u001b[0m\u001b[0m\n\u001b[0;32m      5\u001b[0m         \u001b[0mshadow\u001b[0m \u001b[1;33m=\u001b[0m \u001b[1;32mTrue\u001b[0m\u001b[1;33m,\u001b[0m\u001b[1;33m\u001b[0m\u001b[1;33m\u001b[0m\u001b[0m\n",
      "\u001b[1;31mNameError\u001b[0m: name 'figsize' is not defined"
     ]
    }
   ],
   "source": [
    "x_label = ['Rural','Suburban', 'Urban' ]\n",
    "plt.subplots(figsize(12,7))\n",
    "plt.pie(percentage_ride, labels = x_label,\n",
    "        colors = ['skyblue','lightcoral','lightgreen'],\n",
    "        shadow = True,\n",
    "        explode= [0,0,.1], autopct='%1.1f%%')\n",
    "plt.title('% Rides By Type')\n",
    "plt.savefig('%ridebytypes.png')\n",
    "plt.show()"
   ]
  },
  {
   "cell_type": "code",
   "execution_count": null,
   "id": "552c9d09",
   "metadata": {},
   "outputs": [],
   "source": []
  }
 ],
 "metadata": {
  "kernelspec": {
   "display_name": "Python 3 (ipykernel)",
   "language": "python",
   "name": "python3"
  },
  "language_info": {
   "codemirror_mode": {
    "name": "ipython",
    "version": 3
   },
   "file_extension": ".py",
   "mimetype": "text/x-python",
   "name": "python",
   "nbconvert_exporter": "python",
   "pygments_lexer": "ipython3",
   "version": "3.7.11"
  }
 },
 "nbformat": 4,
 "nbformat_minor": 5
}
